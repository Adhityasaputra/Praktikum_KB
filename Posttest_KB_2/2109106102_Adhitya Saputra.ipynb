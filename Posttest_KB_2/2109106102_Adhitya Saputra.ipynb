{
 "cells": [
  {
   "cell_type": "markdown",
   "metadata": {},
   "source": [
    "Import Library"
   ]
  },
  {
   "cell_type": "code",
   "execution_count": 8,
   "metadata": {},
   "outputs": [],
   "source": [
    "import pandas as pd\n",
    "from tabulate import tabulate"
   ]
  },
  {
   "cell_type": "markdown",
   "metadata": {},
   "source": [
    "Menampilkan dataset"
   ]
  },
  {
   "cell_type": "code",
   "execution_count": 9,
   "metadata": {},
   "outputs": [],
   "source": [
    "dF = pd.read_csv('Corona_NLP_test.csv')"
   ]
  },
  {
   "cell_type": "code",
   "execution_count": 10,
   "metadata": {},
   "outputs": [
    {
     "data": {
      "text/html": [
       "<div>\n",
       "<style scoped>\n",
       "    .dataframe tbody tr th:only-of-type {\n",
       "        vertical-align: middle;\n",
       "    }\n",
       "\n",
       "    .dataframe tbody tr th {\n",
       "        vertical-align: top;\n",
       "    }\n",
       "\n",
       "    .dataframe thead th {\n",
       "        text-align: right;\n",
       "    }\n",
       "</style>\n",
       "<table border=\"1\" class=\"dataframe\">\n",
       "  <thead>\n",
       "    <tr style=\"text-align: right;\">\n",
       "      <th></th>\n",
       "      <th>UserName</th>\n",
       "      <th>ScreenName</th>\n",
       "      <th>Location</th>\n",
       "      <th>TweetAt</th>\n",
       "      <th>OriginalTweet</th>\n",
       "      <th>Sentiment</th>\n",
       "    </tr>\n",
       "  </thead>\n",
       "  <tbody>\n",
       "    <tr>\n",
       "      <th>0</th>\n",
       "      <td>1</td>\n",
       "      <td>44953</td>\n",
       "      <td>NYC</td>\n",
       "      <td>02-03-2020</td>\n",
       "      <td>TRENDING: New Yorkers encounter empty supermar...</td>\n",
       "      <td>Extremely Negative</td>\n",
       "    </tr>\n",
       "    <tr>\n",
       "      <th>1</th>\n",
       "      <td>2</td>\n",
       "      <td>44954</td>\n",
       "      <td>Seattle, WA</td>\n",
       "      <td>02-03-2020</td>\n",
       "      <td>When I couldn't find hand sanitizer at Fred Me...</td>\n",
       "      <td>Positive</td>\n",
       "    </tr>\n",
       "    <tr>\n",
       "      <th>2</th>\n",
       "      <td>3</td>\n",
       "      <td>44955</td>\n",
       "      <td>NaN</td>\n",
       "      <td>02-03-2020</td>\n",
       "      <td>Find out how you can protect yourself and love...</td>\n",
       "      <td>Extremely Positive</td>\n",
       "    </tr>\n",
       "    <tr>\n",
       "      <th>3</th>\n",
       "      <td>4</td>\n",
       "      <td>44956</td>\n",
       "      <td>Chicagoland</td>\n",
       "      <td>02-03-2020</td>\n",
       "      <td>#Panic buying hits #NewYork City as anxious sh...</td>\n",
       "      <td>Negative</td>\n",
       "    </tr>\n",
       "    <tr>\n",
       "      <th>4</th>\n",
       "      <td>5</td>\n",
       "      <td>44957</td>\n",
       "      <td>Melbourne, Victoria</td>\n",
       "      <td>03-03-2020</td>\n",
       "      <td>#toiletpaper #dunnypaper #coronavirus #coronav...</td>\n",
       "      <td>Neutral</td>\n",
       "    </tr>\n",
       "  </tbody>\n",
       "</table>\n",
       "</div>"
      ],
      "text/plain": [
       "   UserName  ScreenName             Location     TweetAt  \\\n",
       "0         1       44953                  NYC  02-03-2020   \n",
       "1         2       44954          Seattle, WA  02-03-2020   \n",
       "2         3       44955                  NaN  02-03-2020   \n",
       "3         4       44956          Chicagoland  02-03-2020   \n",
       "4         5       44957  Melbourne, Victoria  03-03-2020   \n",
       "\n",
       "                                       OriginalTweet           Sentiment  \n",
       "0  TRENDING: New Yorkers encounter empty supermar...  Extremely Negative  \n",
       "1  When I couldn't find hand sanitizer at Fred Me...            Positive  \n",
       "2  Find out how you can protect yourself and love...  Extremely Positive  \n",
       "3  #Panic buying hits #NewYork City as anxious sh...            Negative  \n",
       "4  #toiletpaper #dunnypaper #coronavirus #coronav...             Neutral  "
      ]
     },
     "execution_count": 10,
     "metadata": {},
     "output_type": "execute_result"
    }
   ],
   "source": [
    "dF.head()"
   ]
  },
  {
   "cell_type": "markdown",
   "metadata": {},
   "source": [
    "44957 rows x 6 columns"
   ]
  },
  {
   "cell_type": "markdown",
   "metadata": {},
   "source": [
    "Menampilkan rata-rata, standar deviasi, nilai minimum, nilai maksimum, Q1, Q2, dan Q3 dari attribute bertipe angka."
   ]
  },
  {
   "cell_type": "code",
   "execution_count": 11,
   "metadata": {},
   "outputs": [
    {
     "data": {
      "text/html": [
       "<div>\n",
       "<style scoped>\n",
       "    .dataframe tbody tr th:only-of-type {\n",
       "        vertical-align: middle;\n",
       "    }\n",
       "\n",
       "    .dataframe tbody tr th {\n",
       "        vertical-align: top;\n",
       "    }\n",
       "\n",
       "    .dataframe thead th {\n",
       "        text-align: right;\n",
       "    }\n",
       "</style>\n",
       "<table border=\"1\" class=\"dataframe\">\n",
       "  <thead>\n",
       "    <tr style=\"text-align: right;\">\n",
       "      <th></th>\n",
       "      <th>UserName</th>\n",
       "      <th>ScreenName</th>\n",
       "    </tr>\n",
       "  </thead>\n",
       "  <tbody>\n",
       "    <tr>\n",
       "      <th>count</th>\n",
       "      <td>3798.000000</td>\n",
       "      <td>3798.000000</td>\n",
       "    </tr>\n",
       "    <tr>\n",
       "      <th>mean</th>\n",
       "      <td>1899.500000</td>\n",
       "      <td>46851.500000</td>\n",
       "    </tr>\n",
       "    <tr>\n",
       "      <th>std</th>\n",
       "      <td>1096.532489</td>\n",
       "      <td>1096.532489</td>\n",
       "    </tr>\n",
       "    <tr>\n",
       "      <th>min</th>\n",
       "      <td>1.000000</td>\n",
       "      <td>44953.000000</td>\n",
       "    </tr>\n",
       "    <tr>\n",
       "      <th>25%</th>\n",
       "      <td>950.250000</td>\n",
       "      <td>45902.250000</td>\n",
       "    </tr>\n",
       "    <tr>\n",
       "      <th>50%</th>\n",
       "      <td>1899.500000</td>\n",
       "      <td>46851.500000</td>\n",
       "    </tr>\n",
       "    <tr>\n",
       "      <th>75%</th>\n",
       "      <td>2848.750000</td>\n",
       "      <td>47800.750000</td>\n",
       "    </tr>\n",
       "    <tr>\n",
       "      <th>max</th>\n",
       "      <td>3798.000000</td>\n",
       "      <td>48750.000000</td>\n",
       "    </tr>\n",
       "  </tbody>\n",
       "</table>\n",
       "</div>"
      ],
      "text/plain": [
       "          UserName    ScreenName\n",
       "count  3798.000000   3798.000000\n",
       "mean   1899.500000  46851.500000\n",
       "std    1096.532489   1096.532489\n",
       "min       1.000000  44953.000000\n",
       "25%     950.250000  45902.250000\n",
       "50%    1899.500000  46851.500000\n",
       "75%    2848.750000  47800.750000\n",
       "max    3798.000000  48750.000000"
      ]
     },
     "execution_count": 11,
     "metadata": {},
     "output_type": "execute_result"
    }
   ],
   "source": [
    "dF.describe()"
   ]
  },
  {
   "cell_type": "markdown",
   "metadata": {},
   "source": [
    "Menampilkan 10 record pertama dari dataset dengan attribute bertipe angka."
   ]
  },
  {
   "cell_type": "code",
   "execution_count": 12,
   "metadata": {},
   "outputs": [
    {
     "data": {
      "text/html": [
       "<div>\n",
       "<style scoped>\n",
       "    .dataframe tbody tr th:only-of-type {\n",
       "        vertical-align: middle;\n",
       "    }\n",
       "\n",
       "    .dataframe tbody tr th {\n",
       "        vertical-align: top;\n",
       "    }\n",
       "\n",
       "    .dataframe thead th {\n",
       "        text-align: right;\n",
       "    }\n",
       "</style>\n",
       "<table border=\"1\" class=\"dataframe\">\n",
       "  <thead>\n",
       "    <tr style=\"text-align: right;\">\n",
       "      <th></th>\n",
       "      <th>UserName</th>\n",
       "      <th>ScreenName</th>\n",
       "    </tr>\n",
       "  </thead>\n",
       "  <tbody>\n",
       "    <tr>\n",
       "      <th>0</th>\n",
       "      <td>1</td>\n",
       "      <td>44953</td>\n",
       "    </tr>\n",
       "    <tr>\n",
       "      <th>1</th>\n",
       "      <td>2</td>\n",
       "      <td>44954</td>\n",
       "    </tr>\n",
       "    <tr>\n",
       "      <th>2</th>\n",
       "      <td>3</td>\n",
       "      <td>44955</td>\n",
       "    </tr>\n",
       "    <tr>\n",
       "      <th>3</th>\n",
       "      <td>4</td>\n",
       "      <td>44956</td>\n",
       "    </tr>\n",
       "    <tr>\n",
       "      <th>4</th>\n",
       "      <td>5</td>\n",
       "      <td>44957</td>\n",
       "    </tr>\n",
       "    <tr>\n",
       "      <th>5</th>\n",
       "      <td>6</td>\n",
       "      <td>44958</td>\n",
       "    </tr>\n",
       "    <tr>\n",
       "      <th>6</th>\n",
       "      <td>7</td>\n",
       "      <td>44959</td>\n",
       "    </tr>\n",
       "    <tr>\n",
       "      <th>7</th>\n",
       "      <td>8</td>\n",
       "      <td>44960</td>\n",
       "    </tr>\n",
       "    <tr>\n",
       "      <th>8</th>\n",
       "      <td>9</td>\n",
       "      <td>44961</td>\n",
       "    </tr>\n",
       "  </tbody>\n",
       "</table>\n",
       "</div>"
      ],
      "text/plain": [
       "   UserName  ScreenName\n",
       "0         1       44953\n",
       "1         2       44954\n",
       "2         3       44955\n",
       "3         4       44956\n",
       "4         5       44957\n",
       "5         6       44958\n",
       "6         7       44959\n",
       "7         8       44960\n",
       "8         9       44961"
      ]
     },
     "execution_count": 12,
     "metadata": {},
     "output_type": "execute_result"
    }
   ],
   "source": [
    "attribute_angka = dF.select_dtypes (include=['int64', 'float64'])\n",
    "attribute_angka.head(9)"
   ]
  },
  {
   "cell_type": "markdown",
   "metadata": {},
   "source": [
    "Menampilkan informasi jumlah record, jumlah attribute, nama attribute, jumlah attribute dengan tipe angka."
   ]
  },
  {
   "cell_type": "code",
   "execution_count": 13,
   "metadata": {},
   "outputs": [
    {
     "name": "stdout",
     "output_type": "stream",
     "text": [
      "+-----------------+--------------------------------+------------------+-------------------------------+\n",
      "|   Jumlah Record |   Jumlah Attribute Tipe Object | Nama Attribute   |   Jumlah Attribute Tipe Angka |\n",
      "|-----------------+--------------------------------+------------------+-------------------------------|\n",
      "|            3798 |                              4 | UserName         |                             2 |\n",
      "|                 |                                | ScreenName       |                               |\n",
      "|                 |                                | Location         |                               |\n",
      "|                 |                                | TweetAt          |                               |\n",
      "|                 |                                | OriginalTweet    |                               |\n",
      "|                 |                                | Sentiment        |                               |\n",
      "+-----------------+--------------------------------+------------------+-------------------------------+\n"
     ]
    }
   ],
   "source": [
    "# Jumlah Record\n",
    "jumlah_record = len(dF)\n",
    "# Jumlah atribut tipe object\n",
    "objek = len(dF.dtypes[dF.dtypes == 'object'])\n",
    "# Nama Attribute\n",
    "atr = list(dF.columns)\n",
    "atr = \"\\n\".join(atr)\n",
    "# Jumlah atribut tipe angka\n",
    "angka = len(dF.dtypes[dF.dtypes == 'int64'])\n",
    "dictionary = {\n",
    "    \"Jumlah Record\" : [jumlah_record],\n",
    "    \"Jumlah Attribute Tipe Object\" : [objek],\n",
    "    \"Nama Attribute\":[atr],\n",
    "    \"Jumlah Attribute Tipe Angka\" : [angka]\n",
    "}\n",
    "tabel = pd.DataFrame(dictionary)\n",
    "print(tabulate(tabel, headers='keys', tablefmt='psql', showindex=False))"
   ]
  },
  {
   "cell_type": "markdown",
   "metadata": {},
   "source": [
    "Menampilkan nilai dataset pada baris dimulai dengan angka 102 hingga data terakhir dan kolom ke 4 hingga kolom terakhir menggunakan ke 2 metode slice.\n",
    "\n",
    "Menggunakan metode .iloc"
   ]
  },
  {
   "cell_type": "code",
   "execution_count": 19,
   "metadata": {},
   "outputs": [
    {
     "name": "stdout",
     "output_type": "stream",
     "text": [
      "Menggunakan metode .iloc:\n",
      "         TweetAt                                      OriginalTweet  \\\n",
      "102   10-03-2020  Missouri AG sues televangelist for advertising...   \n",
      "103   10-03-2020  President Trump: \"It will go away.  Just stay ...   \n",
      "104   10-03-2020  You actually need to stock pile on food first ...   \n",
      "105   10-03-2020  We (@hamiltonpoverty) are calling on Canadian ...   \n",
      "106   10-03-2020  Solid advice for seniors, their family members...   \n",
      "...          ...                                                ...   \n",
      "3793  16-03-2020  Meanwhile In A Supermarket in Israel -- People...   \n",
      "3794  16-03-2020  Did you panic buy a lot of non-perishable item...   \n",
      "3795  16-03-2020  Asst Prof of Economics @cconces was on @NBCPhi...   \n",
      "3796  16-03-2020  Gov need to do somethings instead of biar je r...   \n",
      "3797  16-03-2020  I and @ForestandPaper members are committed to...   \n",
      "\n",
      "               Sentiment  \n",
      "102             Positive  \n",
      "103             Positive  \n",
      "104              Neutral  \n",
      "105   Extremely Positive  \n",
      "106             Positive  \n",
      "...                  ...  \n",
      "3793            Positive  \n",
      "3794            Negative  \n",
      "3795             Neutral  \n",
      "3796  Extremely Negative  \n",
      "3797  Extremely Positive  \n",
      "\n",
      "[3696 rows x 3 columns]\n"
     ]
    }
   ],
   "source": [
    "# Menggunakan metode .iloc (indeks berbasis posisi)\n",
    "subset_iloc = dF.iloc[102:, 3:]  # Mulai dari baris 102 dan dari kolom ke-4\n",
    "\n",
    "# Menampilkan hasil\n",
    "print(\"Menggunakan metode .iloc:\")\n",
    "print(subset_iloc)"
   ]
  },
  {
   "cell_type": "markdown",
   "metadata": {},
   "source": [
    "Menggunakan metode .loc"
   ]
  },
  {
   "cell_type": "code",
   "execution_count": 20,
   "metadata": {},
   "outputs": [
    {
     "name": "stdout",
     "output_type": "stream",
     "text": [
      "\n",
      "Menggunakan metode .loc:\n",
      "         TweetAt                                      OriginalTweet  \\\n",
      "102   10-03-2020  Missouri AG sues televangelist for advertising...   \n",
      "103   10-03-2020  President Trump: \"It will go away.  Just stay ...   \n",
      "104   10-03-2020  You actually need to stock pile on food first ...   \n",
      "105   10-03-2020  We (@hamiltonpoverty) are calling on Canadian ...   \n",
      "106   10-03-2020  Solid advice for seniors, their family members...   \n",
      "...          ...                                                ...   \n",
      "3793  16-03-2020  Meanwhile In A Supermarket in Israel -- People...   \n",
      "3794  16-03-2020  Did you panic buy a lot of non-perishable item...   \n",
      "3795  16-03-2020  Asst Prof of Economics @cconces was on @NBCPhi...   \n",
      "3796  16-03-2020  Gov need to do somethings instead of biar je r...   \n",
      "3797  16-03-2020  I and @ForestandPaper members are committed to...   \n",
      "\n",
      "               Sentiment  \n",
      "102             Positive  \n",
      "103             Positive  \n",
      "104              Neutral  \n",
      "105   Extremely Positive  \n",
      "106             Positive  \n",
      "...                  ...  \n",
      "3793            Positive  \n",
      "3794            Negative  \n",
      "3795             Neutral  \n",
      "3796  Extremely Negative  \n",
      "3797  Extremely Positive  \n",
      "\n",
      "[3696 rows x 3 columns]\n"
     ]
    }
   ],
   "source": [
    "# Menggunakan metode .loc (label indeks dan nama kolom)\n",
    "subset_loc = dF.loc[102:, dF.columns[3]:]  # Mulai dari baris 102 dan dari kolom ke-4\n",
    "\n",
    "print(\"\\nMenggunakan metode .loc:\")\n",
    "print(subset_loc)"
   ]
  },
  {
   "cell_type": "markdown",
   "metadata": {},
   "source": [
    "Menampilkan jumlah label dari semua attribute yang bernilai object"
   ]
  },
  {
   "cell_type": "code",
   "execution_count": 18,
   "metadata": {},
   "outputs": [
    {
     "name": "stdout",
     "output_type": "stream",
     "text": [
      "Attribute 'Location' memiliki 1717 label.\n",
      "Attribute 'TweetAt' memiliki 15 label.\n",
      "Attribute 'OriginalTweet' memiliki 3798 label.\n",
      "Attribute 'Sentiment' memiliki 5 label.\n"
     ]
    }
   ],
   "source": [
    "# Mendapatkan attribute-attribute dengan tipe data 'object'\n",
    "attribute_objek = dF.select_dtypes(include=['object'])\n",
    "for attribute in attribute_objek.columns:\n",
    "    jumlah_label = dF[attribute].nunique()\n",
    "    print(f\"Attribute '{attribute}' memiliki {jumlah_label} label.\")"
   ]
  }
 ],
 "metadata": {
  "kernelspec": {
   "display_name": "Python 3",
   "language": "python",
   "name": "python3"
  },
  "language_info": {
   "codemirror_mode": {
    "name": "ipython",
    "version": 3
   },
   "file_extension": ".py",
   "mimetype": "text/x-python",
   "name": "python",
   "nbconvert_exporter": "python",
   "pygments_lexer": "ipython3",
   "version": "3.10.7"
  },
  "orig_nbformat": 4
 },
 "nbformat": 4,
 "nbformat_minor": 2
}
